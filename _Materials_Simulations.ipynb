{
 "cells": [
  {
   "cell_type": "markdown",
   "metadata": {},
   "source": [
    "# Materials Simulation with Jupyter Notebooks\n",
    "<hr style=\"height:1px;border-top:4px solid #FF8200\" />\n",
    "\n",
    "by Gerd Duscher\n",
    "\n",
    "Microscopy Facilities<br>\n",
    "Joint Institute of Advanced Materials<br>\n",
    "Department of Materials Science & Engineering<br>\n",
    "The University of Tennessee, Knoxville\n",
    "\n",
    "\n",
    "# Foreword (ReadME)\n",
    "This lecture provides information on how to utilize [Jupyter notebooks](https://jupyter.org/) for materials simulations.\n",
    "\n",
    "I use [anaconda3](https://www.anaconda.com/distribution/) (not miniconda) for linux (most density functional codes need a unix file system). \n",
    "On my laptop, I use [linux as a subsystem](https://docs.microsoft.com/en-us/windows/wsl/install-win10) under windows10 and [ubuntu 18.04 LTS](https://www.microsoft.com/en-us/p/ubuntu/9nblggh4msv6?rtc=1&activetab=pivot:overviewtab) \n",
    "\n",
    "This lecture is heavily based on the **[Atomic Simulation Environment - ASE](https://wiki.fysik.dtu.dk/ase/)**.\n",
    "This package makes it possible to use different density functional codes as calculators, and also to use ASE as a post-processor for an already performed calculation. It is very usefull to switch between differnet codes.\n",
    "\n",
    "\n",
    "The density functional theory (DFT) codes are discussed:\n",
    "* [GPAW](https://wiki.fysik.dtu.dk/gpaw/)\n",
    "* [exciting](http://exciting-code.org/)\n",
    "* [Vasp](https://www.vasp.at/)\n",
    "\n",
    "The molecular dynamix codes are:\n",
    "\n",
    "* [ASAP](https://wiki.fysik.dtu.dk/asap/asap)\n",
    "* [EMT- MD calculator of SAE](https://wiki.fysik.dtu.dk/ase/ase/calculators/emt.html#module-ase.calculators.emt)\n",
    "\n",
    "\n",
    "Please note, that there is **no programming** required, but the user should not be shy in changing the values of parameters.\n",
    "\n",
    "\n",
    "The philosophy of these notebooks is that **we use optimized packages** instead of rewritting code! Therefore, the programming language python is used that provides a large number of those packages. The packages semselfs are probably running mostly in Fortran and C, but we do not worry about that.\n"
   ]
  },
  {
   "cell_type": "markdown",
   "metadata": {},
   "source": [
    "# Content\n",
    "This (note-) book is divided in the following sections:\n",
    "\n",
    "* **Chapter 1: [Introduction](CH1-Introduction.ipynb)**\n",
    "    * [Python as it is used here](CH1-Introduction_Python.ipynb)\n",
    "    * [Installation and Prerequesites](CH1-Prerequesites.ipynb)\n",
    "\n",
    "\n",
    "    \n",
    "* **Chapter 5: [Simulation](CH5-_Simulations.ipynb)**\n",
    "    * [Overview](CH5-Overview.ipynb)\n",
    "    * [Introduction to the *atomic simulation environment* ase](CH5-Intro_ASE.ipynb)\n",
    "\n",
    "    **Structure**\n",
    "    * [Building Symmetric Tilt Grain Boundaries](CH5-GrainBoundaryI.ipynb)\n",
    "    * [Analysing Tilt Grain Boundaries](Analysing_GB.ipynb)\n",
    "    * [Molecular Dynamics Basics](MolecularDynamics.ipynb)\n",
    "\n",
    "    **calculators**\n",
    "    * [GPAW](CH5-GPAW.ipynb)\n",
    "    * [exciting](CH5-exciting.ipynb)\n",
    "    * [VASP](CH5-VASP.ipynb)\n",
    "    \n",
    "\n",
    "    **Properties**\n",
    "    * [Calculating Dielectric Function I: Aluminum](CH5-DielectricDFT.ipynb)\n",
    "    * [Calculating Dielectric Function II: Silicon](CH5-DielectricDFT2.ipynb)\n",
    "    \n",
    "    \n",
    "    "
   ]
  },
  {
   "cell_type": "markdown",
   "metadata": {},
   "source": [
    "## Introduction to Python as it is used in this lecture\n",
    "\n",
    "First of all you do not need to program anything, however, you will have to change the values of input parameters inthe code cells. Of course, you are incouraged and to modify the code in order to explore the data analysis methods. \n",
    "\n",
    "In this book, we will use the python program language.\n",
    "For this language, a lot of packages are available that provide algorythms for all common mathematical and statistical needs.\n",
    "\n",
    "In this book we rely most heavily on the standard numerical and scientific library:<b> numpy and scipy </b>\n",
    "\n",
    "The philosophy of this book is not to reinvent the wheel but to use those package which are highly optimized.\n",
    "The code should be as easy to read as possible, which means \n",
    "    * the variable names are chosen in the same manner as in the formulas, \n",
    "    * the routines of the different packages are not wrapped in others \n",
    "    * the code is written step by step and not organized in classes "
   ]
  },
  {
   "cell_type": "markdown",
   "metadata": {},
   "source": [
    "# An Example\n",
    "We will do a lot of vector algebra so as an example we want to compute the angle between two vectors, \n",
    "\n",
    "which is calculated by trasnforming the dfinition of the dot product: $\\vec{a} \\cdot \\vec{b} = \\left| \\vec{a} \\right| \\left| \\vec{b} \\right| \\cos (\\theta) $\n",
    "\n",
    "$$ \\theta = \\arccos\\left( \\frac{\\vec{a} \\cdot \\vec{b}}{\\left| \\vec{a} \\right| \\left| \\vec{b} \\right|} \\right)$$"
   ]
  },
  {
   "cell_type": "code",
   "execution_count": 2,
   "metadata": {},
   "outputs": [
    {
     "name": "stdout",
     "output_type": "stream",
     "text": [
      "The angle between vectors a and b is 39.23 degree\n"
     ]
    }
   ],
   "source": [
    "# We need to import the numpy package\n",
    "import numpy as np\n",
    "\n",
    "# We define the two vectors\n",
    "a_vector = [1,1,1]\n",
    "b_vector = [0,2,1]\n",
    "\n",
    "# calculate the lengths of the vectors\n",
    "a_length = np.linalg.norm(a_vector)\n",
    "b_length = np.linalg.norm(b_vector)\n",
    "\n",
    "#now the angle between vectors a and b according to above formula\n",
    "theta = np.arccos(np.dot(a_vector, b_vector) / (a_length * b_length) )\n",
    "\n",
    "print('The angle between vectors a and b is {0:.2f} degree'.format(np.degrees(theta)) )"
   ]
  },
  {
   "cell_type": "markdown",
   "metadata": {},
   "source": [
    "In crystallography we would use the normed (or unit) vectors $\\hat{a}$ and $\\hat{b}$ which are defined as  $\\hat{a} = \\frac{\\vec{a}}{\\left| \\vec{a} \\right|}$.\n",
    "\n",
    "The dot product is then the cos of the angle directly: \n",
    "\n",
    "$\\hat{a} \\cdot \\hat{b} = \\cos (\\theta) $"
   ]
  },
  {
   "cell_type": "code",
   "execution_count": 4,
   "metadata": {},
   "outputs": [
    {
     "name": "stdout",
     "output_type": "stream",
     "text": [
      "The angle between normed vectors a and b is 43.09 degree\n"
     ]
    }
   ],
   "source": [
    "# unit vectors\n",
    "a_normed = a_vector/a_length\n",
    "b_normed = b_vector/b_length\n",
    "\n",
    "theta = np.arccos(np.dot(a_normed, b_normed) )\n",
    "\n",
    "print('The angle between normed vectors a and b is {0:.2f} degree'.format(np.degrees(theta)) )                 "
   ]
  },
  {
   "cell_type": "markdown",
   "metadata": {},
   "source": [
    "## Functions\n",
    "For a task you use more often you might want to define a function to do that task in a reproducable manner.\n",
    "\n",
    "One always makes sure that one comments those functions, to be "
   ]
  },
  {
   "cell_type": "code",
   "execution_count": 3,
   "metadata": {},
   "outputs": [
    {
     "name": "stdout",
     "output_type": "stream",
     "text": [
      "Help on function angle_between_two_vectors in module __main__:\n",
      "\n",
      "angle_between_two_vectors(vector1, vector2)\n",
      "    Calculation of the angle between two vectors of the same dimension throught arccos of the dot product\n",
      "    \n",
      "    Input:\n",
      "    ------\n",
      "        vector1, vector2: two vectors as lists or numpy arrays\n",
      "        \n",
      "    Output:\n",
      "    -------\n",
      "        angle: angle between the vectors in radians\n",
      "\n",
      "The angle between vectors a: [1, 1, 1] and b: [0, 2, 1] is 39.23 degree\n"
     ]
    }
   ],
   "source": [
    "def angle_between_two_vectors(vector1, vector2):\n",
    "    \"\"\"\n",
    "    \n",
    "    Calculation of the angle between two vectors of the same dimension throught arccos of the dot product\n",
    "    \n",
    "    Input:\n",
    "    ------\n",
    "        vector1, vector2: two vectors as lists or numpy arrays\n",
    "        \n",
    "    Output:\n",
    "    -------\n",
    "        angle: angle between the vectors in radians\n",
    "    \"\"\"\n",
    "    # calculate the lengths of the vectors\n",
    "    vector1_length = np.linalg.norm(vector1)\n",
    "    vector2_length = np.linalg.norm(vector2)\n",
    "\n",
    "    #now the angle between vectors a and b according to above formula\n",
    "    angle = np.arccos(np.dot(vector1/vector1_length, vector2/vector2_length) )\n",
    "    return angle #in radians\n",
    "help(angle_between_two_vectors)\n",
    "theta = angle_between_two_vectors(a_vector, b_vector)\n",
    "print('The angle between vectors a: {0} and b: {1} is {2:.2f} degree'.format(a_vector, b_vector, np.degrees(theta)) )          "
   ]
  },
  {
   "cell_type": "markdown",
   "metadata": {},
   "source": [
    "## Effective Use of numpy\n",
    "The real power of numpy will be evident if we code a function that will do the angles of a whole vector field."
   ]
  },
  {
   "cell_type": "code",
   "execution_count": 4,
   "metadata": {},
   "outputs": [
    {
     "name": "stdout",
     "output_type": "stream",
     "text": [
      "[[70.52877937 70.52877937 70.52877937]\n",
      " [90.         90.         90.        ]\n",
      " [        nan         nan         nan]\n",
      " [75.03678257 75.03678257 75.03678257]\n",
      " [58.90906964 58.90906964 58.90906964]\n",
      " [58.90906964 58.90906964 58.90906964]\n",
      " [81.12360492 81.12360492 81.12360492]\n",
      " [81.12360492 81.12360492 81.12360492]\n",
      " [81.12360492 81.12360492 81.12360492]]\n"
     ]
    },
    {
     "name": "stderr",
     "output_type": "stream",
     "text": [
      "/home/nyd/anaconda3/lib/python3.7/site-packages/ipykernel_launcher.py:18: RuntimeWarning: invalid value encountered in arccos\n"
     ]
    }
   ],
   "source": [
    "def angles_between_consecutive_vectors(vector_field):\n",
    "    \"\"\"\n",
    "    \n",
    "    Calculation of the angle between two consecutive vectors of the same dimension throught arccos of the dot product\n",
    "    \n",
    "    Input:\n",
    "    ------\n",
    "        vector_field: a list or numpy array of vectors as lists or numpy arrays\n",
    "        \n",
    "    Output:\n",
    "    -------\n",
    "        angles: angles between first and all vectors in radians\n",
    "    \"\"\"\n",
    "    \n",
    "    # calculate the lengths of the vectors\n",
    "    vector_field_length = np.linalg.norm(vector_field, axis=1) ## The second axis (first is 0) contains the vectors\n",
    "    #now the angle between vectors a and b according to above formula\n",
    "    angles = np.arccos(np.outer((vector_field/vector_field_length).T, vector_field[0]/vector_field_length[0]) )\n",
    "    return angles #in radians\n",
    "\n",
    "vectors = [a_vector, b_vector, [3,2,1]]\n",
    "angles = angles_between_consecutive_vectors(vectors)\n",
    "print(np.degrees(angles))"
   ]
  },
  {
   "cell_type": "markdown",
   "metadata": {},
   "source": [
    "## Libraries and Classes\n",
    "\n",
    "The functions introduced in this book are also organized in libraries.\n",
    "\n",
    "For a more modern programming approach they could also be grouped in classes, but classes  put another layer between notebook and code, which is desirable for abstraction but not necessarily for understanding.\n",
    "\n",
    "So for the course of this book the functions will be made available in libraries, which can be wrapped in classes for a more monolihic program.\n",
    "\n",
    "A graphical user interface (GUI) was conciously omitted in this book to encourage the user to mess around in the code.\n",
    "So please change the vectors and see what the angle will be.\n",
    "\n",
    "## A word of caution:\n",
    "A notebook can become confusing, if one does not go through it in a sequential way, because the values of parameters can be changed at any stage in any code cell without the other cells having any knowledge about that.\n",
    "\n",
    "A program or function will not have that kind of confusing tendency, and therefore, once we understand a topic a comprehensive function will be provided, like in the case of the angle function.\n"
   ]
  },
  {
   "cell_type": "code",
   "execution_count": null,
   "metadata": {},
   "outputs": [],
   "source": []
  }
 ],
 "metadata": {
  "kernelspec": {
   "display_name": "Python 3",
   "language": "python",
   "name": "python3"
  },
  "language_info": {
   "codemirror_mode": {
    "name": "ipython",
    "version": 3
   },
   "file_extension": ".py",
   "mimetype": "text/x-python",
   "name": "python",
   "nbconvert_exporter": "python",
   "pygments_lexer": "ipython3",
   "version": "3.7.2"
  }
 },
 "nbformat": 4,
 "nbformat_minor": 2
}
