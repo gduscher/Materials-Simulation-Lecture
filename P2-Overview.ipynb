{
 "cells": [
  {
   "cell_type": "markdown",
   "metadata": {},
   "source": [
    "## Part 2: [Simulation](Ch5-Simulation.ipynb)\n",
    "<hr style=\"height:1px;border-top:4px solid #FF8200\" />\n",
    "\n",
    "# Overview\n",
    "\n",
    "part of \n",
    "\n",
    "## [Materials_Simulations Lecture](_Materials_Simulations.ipynb) \n",
    "\n",
    "\n",
    "\n",
    "by Gerd Duscher, 2019\n",
    "\n",
    "Microscopy Facilities<br>\n",
    "Joint Institute of Advanced Materials<br>\n",
    "Department of Materials Science & Engineering<br>\n",
    "The University of Tennessee, Knoxville\n"
   ]
  },
  {
   "cell_type": "markdown",
   "metadata": {},
   "source": [
    "# Import Necessary Packages\n",
    "We first need to import the necessary packages\n",
    "\n",
    "standard packages (which are included in nanconda3:\n",
    "\n",
    "* [numpy](https://www.numpy.org/) the numerical library \n",
    "* [matplotlib](https://matplotlib.org/) the interactive plotting library\n",
    "\n",
    "materials simulation packages used:\n",
    "* [ase](https://wiki.fysik.dtu.dk/ase/)\n",
    "* [GPAW](https://wiki.fysik.dtu.dk/gpaw/)\n",
    "\n",
    "Please note that we from now on will import similar packages in the beginning of each notebook"
   ]
  },
  {
   "cell_type": "code",
   "execution_count": 8,
   "metadata": {},
   "outputs": [
    {
     "name": "stdout",
     "output_type": "stream",
     "text": [
      "Populating the interactive namespace from numpy and matplotlib\n"
     ]
    },
    {
     "ename": "ModuleNotFoundError",
     "evalue": "No module named 'gpaw'",
     "output_type": "error",
     "traceback": [
      "\u001b[1;31m---------------------------------------------------------------------------\u001b[0m",
      "\u001b[1;31mModuleNotFoundError\u001b[0m                       Traceback (most recent call last)",
      "\u001b[1;32m<ipython-input-8-d1b2fbeaa344>\u001b[0m in \u001b[0;36m<module>\u001b[1;34m()\u001b[0m\n\u001b[0;32m      5\u001b[0m \u001b[1;31m# import ase and DFT code gpaw.\u001b[0m\u001b[1;33m\u001b[0m\u001b[1;33m\u001b[0m\u001b[0m\n\u001b[0;32m      6\u001b[0m \u001b[1;32mfrom\u001b[0m \u001b[0mase\u001b[0m\u001b[1;33m.\u001b[0m\u001b[0mbuild\u001b[0m \u001b[1;32mimport\u001b[0m \u001b[0mbulk\u001b[0m\u001b[1;33m\u001b[0m\u001b[0m\n\u001b[1;32m----> 7\u001b[1;33m \u001b[1;32mfrom\u001b[0m \u001b[0mgpaw\u001b[0m \u001b[1;32mimport\u001b[0m \u001b[0mGPAW\u001b[0m\u001b[1;33m\u001b[0m\u001b[0m\n\u001b[0m\u001b[0;32m      8\u001b[0m \u001b[1;33m\u001b[0m\u001b[0m\n\u001b[0;32m      9\u001b[0m \u001b[1;31m# others\u001b[0m\u001b[1;33m\u001b[0m\u001b[1;33m\u001b[0m\u001b[0m\n",
      "\u001b[1;31mModuleNotFoundError\u001b[0m: No module named 'gpaw'"
     ]
    }
   ],
   "source": [
    "# import matplotlib and numpy\n",
    "#                       use \"inline\" instead of \"notebook\" for non-interactive plots\n",
    "%pylab --no-import-all notebook\n",
    "\n",
    "# import ase and DFT code gpaw.\n",
    "from ase.build import bulk\n",
    "from gpaw import GPAW\n",
    "\n",
    "# others\n",
    "import time"
   ]
  },
  {
   "cell_type": "markdown",
   "metadata": {},
   "source": [
    "If something did not load, please go to the **[Prerequesites](P1-Prerequesites.ipynb)** notebook."
   ]
  },
  {
   "cell_type": "markdown",
   "metadata": {},
   "source": [
    "# Shortest code to do a DFT calculation.\n",
    "\n",
    "We build a Silicon crystal (actual an unit cell) with the build function of the ase package first.\n",
    "\n",
    "Then we initialize and set the calulater to be *GPAW*.\n",
    "\n",
    "Finally, we calculate the total energy."
   ]
  },
  {
   "cell_type": "code",
   "execution_count": 7,
   "metadata": {
    "scrolled": false
   },
   "outputs": [
    {
     "ename": "NameError",
     "evalue": "name 'time' is not defined",
     "output_type": "error",
     "traceback": [
      "\u001b[1;31m---------------------------------------------------------------------------\u001b[0m",
      "\u001b[1;31mNameError\u001b[0m                                 Traceback (most recent call last)",
      "\u001b[1;32m<ipython-input-7-63c0f772807b>\u001b[0m in \u001b[0;36m<module>\u001b[1;34m()\u001b[0m\n\u001b[1;32m----> 1\u001b[1;33m \u001b[0mstart_time\u001b[0m \u001b[1;33m=\u001b[0m \u001b[0mtime\u001b[0m\u001b[1;33m.\u001b[0m\u001b[0mtime\u001b[0m\u001b[1;33m(\u001b[0m\u001b[1;33m)\u001b[0m\u001b[1;33m\u001b[0m\u001b[0m\n\u001b[0m\u001b[0;32m      2\u001b[0m \u001b[1;31m# Ground state calculation\u001b[0m\u001b[1;33m\u001b[0m\u001b[1;33m\u001b[0m\u001b[0m\n\u001b[0;32m      3\u001b[0m \u001b[0ma_Si\u001b[0m \u001b[1;33m=\u001b[0m \u001b[1;36m5.431\u001b[0m \u001b[1;31m# lattice parameter in Angstrom\u001b[0m\u001b[1;33m\u001b[0m\u001b[0m\n\u001b[0;32m      4\u001b[0m \u001b[0ma_Ge\u001b[0m \u001b[1;33m=\u001b[0m \u001b[1;36m5.658\u001b[0m\u001b[1;33m\u001b[0m\u001b[0m\n\u001b[0;32m      5\u001b[0m \u001b[0ma_Al\u001b[0m \u001b[1;33m=\u001b[0m \u001b[1;36m4.0495\u001b[0m\u001b[1;33m\u001b[0m\u001b[0m\n",
      "\u001b[1;31mNameError\u001b[0m: name 'time' is not defined"
     ]
    }
   ],
   "source": [
    "start_time = time.time()\n",
    "\n",
    "# Ground state calculation\n",
    "\n",
    "a_Si = 5.431 # lattice parameter in Angstrom\n",
    "atoms = bulk('Si', 'diamond', a=a_Si)  # build silicon structure with ase\n",
    "\n",
    "calc = GPAW(mode='pw',  # define calculator\n",
    "            xc='LDA') \n",
    "\n",
    "atoms.set_calculator(calc) # combine structure and calculator\n",
    "\n",
    "total_energy = atoms.get_potential_energy()  # Get ground state density\n",
    "\n",
    "print(f'This calculation took {time.time()-start_time:.0f} s')"
   ]
  },
  {
   "cell_type": "markdown",
   "metadata": {},
   "source": [
    "# Result"
   ]
  },
  {
   "cell_type": "code",
   "execution_count": 4,
   "metadata": {},
   "outputs": [
    {
     "name": "stdout",
     "output_type": "stream",
     "text": [
      "The total energy of silicon is 6.2461 eV\n"
     ]
    }
   ],
   "source": [
    "print(f'The total energy of silicon is {total_energy:.4f} eV')"
   ]
  },
  {
   "cell_type": "markdown",
   "metadata": {},
   "source": [
    "# Summary\n",
    "\n",
    "We performed all the necessary steps to do a simple calculation.\n",
    "\n",
    "We build a structure with *ase*\n",
    "\n",
    "and then\n",
    "\n",
    "we performed an *ab initio* calculation with **GPAW**.\n",
    "\n",
    "Let's see the different steps in detail in the next notebooks:\n",
    "\n",
    "# **[Next](CH5-Intro_ASE.ipynb)**"
   ]
  },
  {
   "cell_type": "code",
   "execution_count": null,
   "metadata": {},
   "outputs": [],
   "source": []
  }
 ],
 "metadata": {
  "kernelspec": {
   "display_name": "Python 3",
   "language": "python",
   "name": "python3"
  },
  "language_info": {
   "codemirror_mode": {
    "name": "ipython",
    "version": 3
   },
   "file_extension": ".py",
   "mimetype": "text/x-python",
   "name": "python",
   "nbconvert_exporter": "python",
   "pygments_lexer": "ipython3",
   "version": "3.7.0"
  }
 },
 "nbformat": 4,
 "nbformat_minor": 2
}
